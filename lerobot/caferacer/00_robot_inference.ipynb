{
 "cells": [
  {
   "cell_type": "code",
   "execution_count": 1,
   "metadata": {},
   "outputs": [],
   "source": [
    "# First cell - Setup paths\n",
    "import sys\n",
    "import os\n",
    "\n",
    "# Setup paths as before\n",
    "notebook_dir = os.path.dirname('__file__')\n",
    "lerobot_root = os.path.abspath(os.path.join(notebook_dir, '../..'))\n",
    "sys.path.append(lerobot_root)\n",
    "os.chdir(lerobot_root)"
   ]
  },
  {
   "cell_type": "code",
   "execution_count": 2,
   "metadata": {},
   "outputs": [],
   "source": [
    "import re\n",
    "import cv2\n",
    "import matplotlib.pyplot as plt\n",
    "import time\n",
    "import numpy as np\n",
    "import torch\n",
    "import matplotlib.pyplot as plt\n",
    "import pandas as pd\n",
    "from datetime import datetime\n",
    "import json\n",
    "import PIL\n",
    "import google.generativeai as genai"
   ]
  },
  {
   "cell_type": "code",
   "execution_count": 3,
   "metadata": {},
   "outputs": [
    {
     "name": "stderr",
     "output_type": "stream",
     "text": [
      "objc[6926]: Class AVFFrameReceiver is implemented in both /Users/shreyas/opt/anaconda3/envs/caferacer/lib/python3.10/site-packages/av/.dylibs/libavdevice.61.3.100.dylib (0x3165c4798) and /Users/shreyas/opt/anaconda3/envs/caferacer/lib/libavdevice.59.7.100.dylib (0x3254a0778). One of the two will be used. Which one is undefined.\n",
      "objc[6926]: Class AVFAudioReceiver is implemented in both /Users/shreyas/opt/anaconda3/envs/caferacer/lib/python3.10/site-packages/av/.dylibs/libavdevice.61.3.100.dylib (0x3165c47e8) and /Users/shreyas/opt/anaconda3/envs/caferacer/lib/libavdevice.59.7.100.dylib (0x3254a07c8). One of the two will be used. Which one is undefined.\n"
     ]
    }
   ],
   "source": [
    "from lerobot.common.policies.act.modeling_act import ACTPolicy\n",
    "from lerobot.common.policies.pi0.modeling_pi0 import PI0Policy\n",
    "from lerobot.common.robot_devices.cameras.configs import OpenCVCameraConfig\n",
    "from lerobot.common.robot_devices.robots.utils import make_robot_from_config\n",
    "from lerobot.common.robot_devices.control_utils import busy_wait, log_control_info\n",
    "from lerobot.common.robot_devices.robots.configs import So100RobotConfig"
   ]
  },
  {
   "cell_type": "code",
   "execution_count": 4,
   "metadata": {},
   "outputs": [],
   "source": [
    "# Create camera config using proper config objects\n",
    "cameras = {\n",
    "    \"laptop\": OpenCVCameraConfig(\n",
    "        camera_index=0,  # Built-in webcam\n",
    "        fps=30,\n",
    "        width=640,\n",
    "        height=480\n",
    "    ),\n",
    "    \"phone\": OpenCVCameraConfig(\n",
    "        camera_index=1,  # iPhone camera\n",
    "        fps=30,\n",
    "        width=640,\n",
    "        height=480\n",
    "    )\n",
    "}"
   ]
  },
  {
   "cell_type": "code",
   "execution_count": 8,
   "metadata": {},
   "outputs": [
    {
     "name": "stdout",
     "output_type": "stream",
     "text": [
      "Connecting main follower arm.\n",
      "Connecting main leader arm.\n",
      "Activating torque on main follower arm.\n"
     ]
    }
   ],
   "source": [
    "robot_cfg = So100RobotConfig(\n",
    "            cameras=cameras,\n",
    "            mock=False, \n",
    "            \n",
    "        )\n",
    "        \n",
    "        # Create and connect robot\n",
    "robot = make_robot_from_config(robot_cfg)\n",
    "robot.connect()"
   ]
  },
  {
   "cell_type": "code",
   "execution_count": 9,
   "metadata": {},
   "outputs": [
    {
     "name": "stderr",
     "output_type": "stream",
     "text": [
      "WARNING:root:Device 'None' is not available. Switching to 'mps'.\n"
     ]
    },
    {
     "name": "stdout",
     "output_type": "stream",
     "text": [
      "Loading weights from local directory\n"
     ]
    }
   ],
   "source": [
    "inference_time_s = 5\n",
    "fps = 30\n",
    "device = \"mps\"  # TODO: On Mac, use \"mps\" or \"cpu\"\n",
    "\n",
    "ckpt_path = \"/Users/shreyas/Downloads/checkpoints/100000/pretrained_model\"\n",
    "policy = ACTPolicy.from_pretrained(ckpt_path)\n",
    "#policy = PI0Policy.from_pretrained(\"lerobot/pi0\")\n",
    "policy.to(device)\n",
    "\n",
    "for _ in range(inference_time_s * fps):\n",
    "    start_time = time.perf_counter()\n",
    "\n",
    "    # Read the follower state and access the frames from the cameras\n",
    "    observation = robot.capture_observation()\n",
    "    \n",
    "    # Convert to pytorch format: channel first and float32 in [0,1]\n",
    "    # with batch dimension\n",
    "    for name in observation:\n",
    "        if \"image\" in name:\n",
    "            observation[name] = observation[name].type(torch.float32) / 255\n",
    "            observation[name] = observation[name].permute(2, 0, 1).contiguous()\n",
    "        observation[name] = observation[name].unsqueeze(0)\n",
    "        observation[name] = observation[name].to(device)\n",
    "\n",
    "    # Compute the next action with the policy\n",
    "    # based on the current observation\n",
    "    action = policy.select_action(observation)\n",
    "    # Remove batch dimension\n",
    "    action = action.squeeze(0)\n",
    "    # Move to cpu, if not already the case\n",
    "    action = action.to(\"cpu\")\n",
    "    # Order the robot to move\n",
    "    robot.send_action(action)\n",
    "    \n",
    "    dt_s = time.perf_counter() - start_time\n",
    "    busy_wait(1 / fps - dt_s)"
   ]
  },
  {
   "cell_type": "markdown",
   "metadata": {},
   "source": []
  },
  {
   "cell_type": "code",
   "execution_count": 10,
   "metadata": {},
   "outputs": [],
   "source": [
    "robot.disconnect()"
   ]
  },
  {
   "cell_type": "code",
   "execution_count": null,
   "metadata": {},
   "outputs": [],
   "source": [
    "print(observation)"
   ]
  },
  {
   "cell_type": "code",
   "execution_count": null,
   "metadata": {},
   "outputs": [],
   "source": [
    "print(action)"
   ]
  },
  {
   "cell_type": "code",
   "execution_count": null,
   "metadata": {},
   "outputs": [],
   "source": []
  }
 ],
 "metadata": {
  "kernelspec": {
   "display_name": "caferacer",
   "language": "python",
   "name": "python3"
  },
  "language_info": {
   "codemirror_mode": {
    "name": "ipython",
    "version": 3
   },
   "file_extension": ".py",
   "mimetype": "text/x-python",
   "name": "python",
   "nbconvert_exporter": "python",
   "pygments_lexer": "ipython3",
   "version": "3.10.9"
  }
 },
 "nbformat": 4,
 "nbformat_minor": 2
}
